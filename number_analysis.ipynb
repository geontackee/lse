{
 "cells": [
  {
   "cell_type": "code",
   "execution_count": 1,
   "id": "b26bb418",
   "metadata": {},
   "outputs": [],
   "source": [
    "def jaccard_sim(a,b):\n",
    "    a = set(a)\n",
    "    b = set(b)\n",
    "    return len(a&b) / len(a|b) # |A intersection B| / |A union B|"
   ]
  },
  {
   "cell_type": "code",
   "execution_count": 2,
   "id": "8302e837",
   "metadata": {},
   "outputs": [],
   "source": [
    "# Specify the path to your text file\n",
    "file_path = \"data\\data.txt\" \n",
    "sets = [] # Array to store all sets\n",
    "\n",
    "try:\n",
    "    with open(file_path, 'r') as file:\n",
    "        # Iterate over each line in the file\n",
    "\n",
    "        for line in file:\n",
    "            sets.append(set(line.strip().split(\" \")))\n",
    "\n",
    "except FileNotFoundError:\n",
    "    print(f\"Error: The file '{file_path}' was not found.\")\n",
    "except Exception as e:\n",
    "    print(f\"An error occurred: {e}\")"
   ]
  },
  {
   "cell_type": "code",
   "execution_count": 3,
   "id": "5643f3e4",
   "metadata": {},
   "outputs": [
    {
     "name": "stdout",
     "output_type": "stream",
     "text": [
      "Average time it took to calculate Jaacard Similiarity: 1.1023659211834689e-05\n",
      "Total estimated time to compute Jaccard Similarity of each of the pairs: 5511824.094087739\n"
     ]
    }
   ],
   "source": [
    "# Sample 5000 sets and compute their pairwise Jaccard similarities\n",
    "import random\n",
    "import time\n",
    "import math\n",
    "\n",
    "sampled_indices = random.sample(range(len(sets)), 5000)\n",
    "\n",
    "count = 0\n",
    "total_time = 0\n",
    "data = []\n",
    "\n",
    "for i in range(len(sampled_indices)):\n",
    "    for j in range(i+1, len(sampled_indices)):\n",
    "        start = time.perf_counter()\n",
    "        jac_sim = jaccard_sim(sets[sampled_indices[i]], sets[sampled_indices[j]])\n",
    "        data.append(jac_sim)\n",
    "        end = time.perf_counter()\n",
    "        total_time += end - start\n",
    "        count += 1\n",
    "\n",
    "avg_time = total_time / count\n",
    "print(f\"Average time it took to calculate Jaacard Similiarity: {avg_time}\")\n",
    "\n",
    "n = len(sets)\n",
    "total_estimated_time = avg_time * math.comb(n, 2)\n",
    "print(f\"Total estimated time to compute Jaccard Similarity of each of the pairs: {total_estimated_time}\")"
   ]
  },
  {
   "cell_type": "code",
   "execution_count": 4,
   "id": "166026b2",
   "metadata": {},
   "outputs": [
    {
     "data": {
      "text/plain": [
       "(array([4.575800e+04, 9.011540e+05, 3.343699e+06, 4.421149e+06,\n",
       "        2.718160e+06, 8.818540e+05, 1.640830e+05, 1.993100e+04,\n",
       "        1.615000e+03, 9.700000e+01]),\n",
       " array([0.        , 0.01509434, 0.03018868, 0.04528302, 0.06037736,\n",
       "        0.0754717 , 0.09056604, 0.10566038, 0.12075472, 0.13584906,\n",
       "        0.1509434 ]),\n",
       " <BarContainer object of 10 artists>)"
      ]
     },
     "execution_count": 4,
     "metadata": {},
     "output_type": "execute_result"
    },
    {
     "data": {
      "image/png": "[encoded data removed]",
      "text/plain": [
       "<Figure size 640x480 with 1 Axes>"
      ]
     },
     "metadata": {},
     "output_type": "display_data"
    }
   ],
   "source": [
    "import matplotlib.pyplot as plt\n",
    "\n",
    "#Plot histogram of the data\n",
    "plt.hist(data)"
   ]
  },
  {
   "cell_type": "code",
   "execution_count": 5,
   "id": "3d5294c2",
   "metadata": {},
   "outputs": [
    {
     "name": "stdout",
     "output_type": "stream",
     "text": [
      "r = 10, b = 10\n",
      "Probability that s = 0.85 results in a collision: 0.8883561842922729\n",
      "Expected number of false positives when r = 10, b = 10 (based on 5000 sample): 15.435545549607689\n",
      "Expected number of candidates = 15.435545549607689\n",
      "Additional time to check the candidates = 0.00017015619388762674 seconds\n",
      "r = 5, b = 20\n",
      "Probability that s = 0.85 results in a collision: 0.9999919443933685\n",
      "Expected number of false positives when r = 5, b = 20 (based on 5000 sample): 8781892.31247845\n",
      "Expected number of candidates = 8781892.31247845\n",
      "Additional time to check the candidates = 96.8085880877933 seconds\n"
     ]
    }
   ],
   "source": [
    "#s-curve equation for LSE\n",
    "\n",
    "def s_curve(s, r, b):\n",
    "    return 1-(1-s**r)**b\n",
    "\n",
    "#Case1: let r=5 and b=20, as shown in the slides.\n",
    "#We want s=0.85 to be highly likely to result in a collision, while similarities < 0.85 to result in low probability\n",
    "#We can calculate the expected value of the candidate pairs, and check how much time to compute the similarity within\n",
    "#the pairs.\n",
    "def check_rb(r, b):\n",
    "    print(f\"Probability that s = 0.85 results in a collision: {s_curve(s = 0.85, r=r, b=b)}\")\n",
    "\n",
    "    expected_fp = 0\n",
    "    expected_tp = 0\n",
    "\n",
    "    for sim in data:\n",
    "        if sim < 0.85:\n",
    "            expected_fp += s_curve(s = sim, r=r, b=b)\n",
    "        else:\n",
    "            expected_tp += s_curve(s = sim, r=r, b=b)\n",
    "\n",
    "    expected_total = expected_fp + expected_tp\n",
    "\n",
    "    #We can translate this result to the whole data\n",
    "    num_total_pairs = math.comb(n, 2)\n",
    "    num_pairs_5000 = len(data)\n",
    "    expected_total_dataset = (num_total_pairs / num_pairs_5000) * expected_total\n",
    "    add_time_check = avg_time * expected_total_dataset\n",
    "\n",
    "    print(f\"Expected number of false positives when r = {r}, b = {b} (based on 5000 sample): {(num_total_pairs / num_pairs_5000) * expected_fp}\")\n",
    "    print(f\"Expected number of candidates = {expected_total_dataset}\")\n",
    "    print(f\"Additional time to check the candidates = {add_time_check} seconds\")\n",
    "\n",
    "print(\"r = 10, b = 10\")\n",
    "check_rb(10, 10)\n",
    "\n",
    "print(\"r = 5, b = 20\")\n",
    "check_rb(5, 20)"
   ]
  },
  {
   "cell_type": "markdown",
   "id": "ed105ca9",
   "metadata": {},
   "source": [
    "Based on my analysis, I decided to choose r = 10 and b = 10. According to the analysis, the probability that s = 0.85 results in a collision is near 89 percent (calculated based on s-curve equation). Also, using the 5000 sample data, I've calculated the estimated number of false positives/candidates, which was only 15!. And expected additional time to check the candidates is only 0.00017 seconds, which is extremely fast. I've tried other combination r = 5 and b = 20. Although this resulted in an extremely high probability of collition when s = 0.85 (99.99 percent!), there were too many candidate pairs (8,700,000), which only takes 98 additional seconds, but will cause memory errors. "
   ]
  },
  {
   "cell_type": "code",
   "execution_count": 6,
   "id": "9f2c202d",
   "metadata": {},
   "outputs": [
    {
     "name": "stdout",
     "output_type": "stream",
     "text": [
      "Requirement already satisfied: mmh3 in c:\\users\\eriko\\miniconda3\\lib\\site-packages (5.2.0)\n",
      "Note: you may need to restart the kernel to use updated packages.\n"
     ]
    }
   ],
   "source": [
    "pip install mmh3"
   ]
  },
  {
   "cell_type": "code",
   "execution_count": 7,
   "id": "9d7409e1",
   "metadata": {},
   "outputs": [],
   "source": [
    "#Use minhashing technique described in paper.\n",
    "\n",
    "#1. create a hash value for each set using murmurhash3\n",
    "import mmh3\n",
    "\n",
    "#2. Hash element of a set, place them to their bucket by getting remainder (%100 since 100 buckets).\n",
    "signatures = []\n",
    "\n",
    "for cur_set in sets:\n",
    "    signature = [float('inf') for _ in range(100)] #100 buckets for signature\n",
    "\n",
    "    for elem in cur_set:\n",
    "        hash = mmh3.hash(elem, signed = False)\n",
    "        signature[hash%100] = min(signature[hash%100], hash)\n",
    "    \n",
    "    signatures.append(signature)"
   ]
  },
  {
   "cell_type": "code",
   "execution_count": null,
   "id": "7eebb634",
   "metadata": {},
   "outputs": [
    {
     "name": "stdout",
     "output_type": "stream",
     "text": [
      "Number of candidate pairs are 154983\n"
     ]
    }
   ],
   "source": [
    "# Now, with r = 10 and b = 10, place the similar sets together.\n",
    "import itertools\n",
    "\n",
    "candidate_pairs = set()\n",
    "r, b = 10, 10\n",
    "\n",
    "for band_index in range(b):\n",
    "    buckets = {}\n",
    "    for i, signature in enumerate(signatures): #the index of signatures is the same as index of sets\n",
    "        band = signature[(band_index*r): (band_index*r)+r]\n",
    "\n",
    "        if band == [float('inf')] * r:\n",
    "            continue  #skipping meaningless bands\n",
    "    \n",
    "        band = tuple(band)\n",
    "\n",
    "        if band not in buckets:\n",
    "            buckets[band] = [i]\n",
    "        else:\n",
    "            buckets[band].append(i)\n",
    "    \n",
    "    for bucket in buckets.values():\n",
    "        if len(bucket) > 1: #if more than one set in a bucket\n",
    "            \n",
    "            for pair in itertools.combinations(bucket, 2): #getting all possible pairs\n",
    "                candidate_pairs.add(tuple(sorted(pair)))\n",
    "\n",
    "print(f\"Number of candidate pairs are {len(candidate_pairs)}\")"
   ]
  },
  {
   "cell_type": "code",
   "execution_count": 10,
   "id": "1f8bdf54",
   "metadata": {},
   "outputs": [
    {
     "name": "stdout",
     "output_type": "stream",
     "text": [
      "[(215149, 274946), (77683, 124849), (2242, 49824), (318540, 752337), (167121, 479963)]\n"
     ]
    }
   ],
   "source": [
    "#Check the real pair out of the candidate pairs.\n",
    "real_pairs = []\n",
    "\n",
    "for pair in candidate_pairs:\n",
    "    set1, set2 = pair\n",
    "    sim = jaccard_sim(sets[set1], sets[set2])\n",
    "\n",
    "    if sim > 0.85:\n",
    "        real_pairs.append(pair)\n",
    "\n",
    "print(real_pairs)"
   ]
  }
 ],
 "metadata": {
  "kernelspec": {
   "display_name": "base",
   "language": "python",
   "name": "python3"
  },
  "language_info": {
   "codemirror_mode": {
    "name": "ipython",
    "version": 3
   },
   "file_extension": ".py",
   "mimetype": "text/x-python",
   "name": "python",
   "nbconvert_exporter": "python",
   "pygments_lexer": "ipython3",
   "version": "3.9.12"
  }
 },
 "nbformat": 4,
 "nbformat_minor": 5
}
